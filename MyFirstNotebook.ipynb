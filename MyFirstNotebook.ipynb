{
 "cells": [
  {
   "cell_type": "code",
   "execution_count": 1,
   "id": "b6563cf4",
   "metadata": {},
   "outputs": [
    {
     "name": "stdout",
     "output_type": "stream",
     "text": [
      "Hello World\n"
     ]
    }
   ],
   "source": [
    "print(\"Hello World\")"
   ]
  },
  {
   "cell_type": "code",
   "execution_count": 2,
   "id": "34b112aa",
   "metadata": {},
   "outputs": [
    {
     "name": "stdout",
     "output_type": "stream",
     "text": [
      "DS Love\n"
     ]
    }
   ],
   "source": [
    "print(\"DS Love\")"
   ]
  },
  {
   "cell_type": "code",
   "execution_count": 3,
   "id": "d20b9439",
   "metadata": {},
   "outputs": [
    {
     "name": "stdout",
     "output_type": "stream",
     "text": [
      "Python prgm\n"
     ]
    }
   ],
   "source": [
    "print(\"Python prgm\")"
   ]
  },
  {
   "cell_type": "code",
   "execution_count": 4,
   "id": "e0269d42",
   "metadata": {},
   "outputs": [
    {
     "name": "stdout",
     "output_type": "stream",
     "text": [
      "can use any quotes\n"
     ]
    }
   ],
   "source": [
    "print('can use any quotes')"
   ]
  },
  {
   "cell_type": "code",
   "execution_count": 5,
   "id": "afb71842",
   "metadata": {},
   "outputs": [
    {
     "name": "stdout",
     "output_type": "stream",
     "text": [
      "2\n"
     ]
    }
   ],
   "source": [
    "print(2)"
   ]
  },
  {
   "cell_type": "code",
   "execution_count": 10,
   "id": "975af8c6",
   "metadata": {},
   "outputs": [
    {
     "name": "stdout",
     "output_type": "stream",
     "text": [
      "2.0\n"
     ]
    }
   ],
   "source": [
    "x=10\n",
    "y=5\n",
    "print(x / y)"
   ]
  },
  {
   "cell_type": "code",
   "execution_count": 11,
   "id": "674bf7a3",
   "metadata": {},
   "outputs": [
    {
     "name": "stdout",
     "output_type": "stream",
     "text": [
      "50\n"
     ]
    }
   ],
   "source": [
    "z=x*y\n",
    "print(z)"
   ]
  },
  {
   "cell_type": "code",
   "execution_count": 13,
   "id": "d784a6ff",
   "metadata": {},
   "outputs": [
    {
     "name": "stdout",
     "output_type": "stream",
     "text": [
      "sum of x & y = 15\n"
     ]
    }
   ],
   "source": [
    "print(\"sum of x & y =\", x+y)"
   ]
  },
  {
   "cell_type": "code",
   "execution_count": 15,
   "id": "2946f38b",
   "metadata": {},
   "outputs": [
    {
     "name": "stdout",
     "output_type": "stream",
     "text": [
      "sum of x & y = 15\n"
     ]
    }
   ],
   "source": [
    "print(\"sum of x & y =\", x+y)"
   ]
  },
  {
   "cell_type": "code",
   "execution_count": 16,
   "id": "e548f355",
   "metadata": {},
   "outputs": [
    {
     "name": "stdout",
     "output_type": "stream",
     "text": [
      "10 5\n"
     ]
    }
   ],
   "source": [
    "print(x,y)"
   ]
  },
  {
   "cell_type": "code",
   "execution_count": 17,
   "id": "7ac76fe9",
   "metadata": {},
   "outputs": [
    {
     "name": "stdout",
     "output_type": "stream",
     "text": [
      "Tha values of x & y are 10 & 5\n"
     ]
    }
   ],
   "source": [
    "print(\"Tha values of x & y are\", x,\"&\",y)"
   ]
  },
  {
   "cell_type": "code",
   "execution_count": 19,
   "id": "5f771b97",
   "metadata": {},
   "outputs": [
    {
     "name": "stdout",
     "output_type": "stream",
     "text": [
      "Multiplication of x & y is = 50\n"
     ]
    }
   ],
   "source": [
    "print(\"Multiplication of x & y is =\", x*y)"
   ]
  },
  {
   "cell_type": "code",
   "execution_count": null,
   "id": "d0b24619",
   "metadata": {},
   "outputs": [],
   "source": []
  }
 ],
 "metadata": {
  "kernelspec": {
   "display_name": "Python 3",
   "language": "python",
   "name": "python3"
  },
  "language_info": {
   "codemirror_mode": {
    "name": "ipython",
    "version": 3
   },
   "file_extension": ".py",
   "mimetype": "text/x-python",
   "name": "python",
   "nbconvert_exporter": "python",
   "pygments_lexer": "ipython3",
   "version": "3.8.8"
  }
 },
 "nbformat": 4,
 "nbformat_minor": 5
}
